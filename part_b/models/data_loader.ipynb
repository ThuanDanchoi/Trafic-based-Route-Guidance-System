{
 "cells": [
  {
   "cell_type": "code",
   "execution_count": 1,
   "id": "initial_id",
   "metadata": {
    "collapsed": true,
    "ExecuteTime": {
     "end_time": "2025-04-20T04:21:07.103290Z",
     "start_time": "2025-04-20T04:21:05.453514Z"
    }
   },
   "outputs": [],
   "source": [
    "import numpy as np\n",
    "import pandas as pd\n",
    "import matplotlib.pyplot as plt\n",
    "from sklearn.preprocessing import MinMaxScaler\n",
    "from sklearn.model_selection import train_test_split \n",
    "import pickle\n",
    "import os\n"
   ]
  },
  {
   "cell_type": "markdown",
   "source": [
    "## Data Loading"
   ],
   "metadata": {
    "collapsed": false
   },
   "id": "3b593d63aca62b0a"
  },
  {
   "cell_type": "code",
   "outputs": [],
   "source": [
    "df = pd.read_csv('../integration/integrated_traffic_spatial_data.csv')"
   ],
   "metadata": {
    "collapsed": false,
    "ExecuteTime": {
     "end_time": "2025-04-20T04:21:07.129783Z",
     "start_time": "2025-04-20T04:21:07.104524Z"
    }
   },
   "id": "b32ccf4d9713b0f4",
   "execution_count": 2
  },
  {
   "cell_type": "code",
   "outputs": [
    {
     "name": "stdout",
     "output_type": "stream",
     "text": [
      "<class 'pandas.core.frame.DataFrame'>\n",
      "RangeIndex: 2360 entries, 0 to 2359\n",
      "Columns: 109 entries, NB_SCATS_SITE to roads\n",
      "dtypes: float64(2), int64(103), object(4)\n",
      "memory usage: 2.0+ MB\n"
     ]
    }
   ],
   "source": [
    "df.info()"
   ],
   "metadata": {
    "collapsed": false,
    "ExecuteTime": {
     "end_time": "2025-04-20T04:21:07.135589Z",
     "start_time": "2025-04-20T04:21:07.131500Z"
    }
   },
   "id": "f5affc961e1471b6",
   "execution_count": 3
  },
  {
   "cell_type": "code",
   "outputs": [
    {
     "data": {
      "text/plain": "       NB_SCATS_SITE  NB_DETECTOR          V00          V01          V02  \\\ncount    2360.000000  2360.000000  2360.000000  2360.000000  2360.000000   \nmean     3694.983051    13.516949     3.537712     3.057627     2.803814   \nstd       619.485394     7.912978     8.325374     8.167808     8.930616   \nmin      2000.000000     0.000000    -1.000000    -1.000000    -1.000000   \n25%      3126.000000     7.000000     0.000000     0.000000     0.000000   \n50%      4030.000000    13.000000     0.000000     0.000000     0.000000   \n75%      4264.000000    20.000000     4.000000     3.000000     2.000000   \nmax      4324.000000    31.000000   133.000000   147.000000   220.000000   \n\n               V03          V04          V05          V06          V07  ...  \\\ncount  2360.000000  2360.000000  2360.000000  2360.000000  2360.000000  ...   \nmean      2.453390     2.376695     1.862712     1.699153     1.442797  ...   \nstd       7.805957     9.633340     5.474885     5.333570     4.109681  ...   \nmin      -1.000000    -1.000000    -1.000000    -1.000000    -1.000000  ...   \n25%       0.000000     0.000000     0.000000     0.000000     0.000000  ...   \n50%       0.000000     0.000000     0.000000     0.000000     0.000000  ...   \n75%       2.000000     2.000000     1.000000     1.000000     1.000000  ...   \nmax     186.000000   334.000000   151.000000   132.000000   105.000000  ...   \n\n               V93          V94          V95  CT_RECORDS  QT_VOLUME_24HOUR  \\\ncount  2360.000000  2360.000000  2360.000000      2360.0       2360.000000   \nmean      6.093644     5.425000     4.871610        96.0       1383.436864   \nstd      12.221086    11.664352    10.805304         0.0       2113.248081   \nmin      -1.000000    -1.000000    -1.000000        96.0         -1.000000   \n25%       0.000000     0.000000     0.000000        96.0          0.000000   \n50%       0.000000     0.000000     0.000000        96.0          3.000000   \n75%       7.000000     5.250000     5.000000        96.0       2374.000000   \nmax     110.000000   151.000000   139.000000        96.0       9414.000000   \n\n       CT_ALARM_24HOUR     scats_id  intersection_id        x_coord  \\\ncount      2360.000000  2360.000000      2360.000000    2360.000000   \nmean          1.485593  3694.983051      1638.898305  329881.413559   \nstd          11.654550   619.485394      1032.591749    1847.740420   \nmin           0.000000  2000.000000        14.000000  325759.000000   \n25%           0.000000  3126.000000       478.000000  328492.900000   \n50%           0.000000  4030.000000      1707.000000  330200.700000   \n75%           0.000000  4264.000000      2543.000000  331251.600000   \nmax          96.000000  4324.000000      3136.000000  332599.200000   \n\n            y_coord  \ncount  2.360000e+03  \nmean   5.811844e+06  \nstd    2.503498e+03  \nmin    5.806464e+06  \n25%    5.809521e+06  \n50%    5.812141e+06  \n75%    5.813492e+06  \nmax    5.815571e+06  \n\n[8 rows x 105 columns]",
      "text/html": "<div>\n<style scoped>\n    .dataframe tbody tr th:only-of-type {\n        vertical-align: middle;\n    }\n\n    .dataframe tbody tr th {\n        vertical-align: top;\n    }\n\n    .dataframe thead th {\n        text-align: right;\n    }\n</style>\n<table border=\"1\" class=\"dataframe\">\n  <thead>\n    <tr style=\"text-align: right;\">\n      <th></th>\n      <th>NB_SCATS_SITE</th>\n      <th>NB_DETECTOR</th>\n      <th>V00</th>\n      <th>V01</th>\n      <th>V02</th>\n      <th>V03</th>\n      <th>V04</th>\n      <th>V05</th>\n      <th>V06</th>\n      <th>V07</th>\n      <th>...</th>\n      <th>V93</th>\n      <th>V94</th>\n      <th>V95</th>\n      <th>CT_RECORDS</th>\n      <th>QT_VOLUME_24HOUR</th>\n      <th>CT_ALARM_24HOUR</th>\n      <th>scats_id</th>\n      <th>intersection_id</th>\n      <th>x_coord</th>\n      <th>y_coord</th>\n    </tr>\n  </thead>\n  <tbody>\n    <tr>\n      <th>count</th>\n      <td>2360.000000</td>\n      <td>2360.000000</td>\n      <td>2360.000000</td>\n      <td>2360.000000</td>\n      <td>2360.000000</td>\n      <td>2360.000000</td>\n      <td>2360.000000</td>\n      <td>2360.000000</td>\n      <td>2360.000000</td>\n      <td>2360.000000</td>\n      <td>...</td>\n      <td>2360.000000</td>\n      <td>2360.000000</td>\n      <td>2360.000000</td>\n      <td>2360.0</td>\n      <td>2360.000000</td>\n      <td>2360.000000</td>\n      <td>2360.000000</td>\n      <td>2360.000000</td>\n      <td>2360.000000</td>\n      <td>2.360000e+03</td>\n    </tr>\n    <tr>\n      <th>mean</th>\n      <td>3694.983051</td>\n      <td>13.516949</td>\n      <td>3.537712</td>\n      <td>3.057627</td>\n      <td>2.803814</td>\n      <td>2.453390</td>\n      <td>2.376695</td>\n      <td>1.862712</td>\n      <td>1.699153</td>\n      <td>1.442797</td>\n      <td>...</td>\n      <td>6.093644</td>\n      <td>5.425000</td>\n      <td>4.871610</td>\n      <td>96.0</td>\n      <td>1383.436864</td>\n      <td>1.485593</td>\n      <td>3694.983051</td>\n      <td>1638.898305</td>\n      <td>329881.413559</td>\n      <td>5.811844e+06</td>\n    </tr>\n    <tr>\n      <th>std</th>\n      <td>619.485394</td>\n      <td>7.912978</td>\n      <td>8.325374</td>\n      <td>8.167808</td>\n      <td>8.930616</td>\n      <td>7.805957</td>\n      <td>9.633340</td>\n      <td>5.474885</td>\n      <td>5.333570</td>\n      <td>4.109681</td>\n      <td>...</td>\n      <td>12.221086</td>\n      <td>11.664352</td>\n      <td>10.805304</td>\n      <td>0.0</td>\n      <td>2113.248081</td>\n      <td>11.654550</td>\n      <td>619.485394</td>\n      <td>1032.591749</td>\n      <td>1847.740420</td>\n      <td>2.503498e+03</td>\n    </tr>\n    <tr>\n      <th>min</th>\n      <td>2000.000000</td>\n      <td>0.000000</td>\n      <td>-1.000000</td>\n      <td>-1.000000</td>\n      <td>-1.000000</td>\n      <td>-1.000000</td>\n      <td>-1.000000</td>\n      <td>-1.000000</td>\n      <td>-1.000000</td>\n      <td>-1.000000</td>\n      <td>...</td>\n      <td>-1.000000</td>\n      <td>-1.000000</td>\n      <td>-1.000000</td>\n      <td>96.0</td>\n      <td>-1.000000</td>\n      <td>0.000000</td>\n      <td>2000.000000</td>\n      <td>14.000000</td>\n      <td>325759.000000</td>\n      <td>5.806464e+06</td>\n    </tr>\n    <tr>\n      <th>25%</th>\n      <td>3126.000000</td>\n      <td>7.000000</td>\n      <td>0.000000</td>\n      <td>0.000000</td>\n      <td>0.000000</td>\n      <td>0.000000</td>\n      <td>0.000000</td>\n      <td>0.000000</td>\n      <td>0.000000</td>\n      <td>0.000000</td>\n      <td>...</td>\n      <td>0.000000</td>\n      <td>0.000000</td>\n      <td>0.000000</td>\n      <td>96.0</td>\n      <td>0.000000</td>\n      <td>0.000000</td>\n      <td>3126.000000</td>\n      <td>478.000000</td>\n      <td>328492.900000</td>\n      <td>5.809521e+06</td>\n    </tr>\n    <tr>\n      <th>50%</th>\n      <td>4030.000000</td>\n      <td>13.000000</td>\n      <td>0.000000</td>\n      <td>0.000000</td>\n      <td>0.000000</td>\n      <td>0.000000</td>\n      <td>0.000000</td>\n      <td>0.000000</td>\n      <td>0.000000</td>\n      <td>0.000000</td>\n      <td>...</td>\n      <td>0.000000</td>\n      <td>0.000000</td>\n      <td>0.000000</td>\n      <td>96.0</td>\n      <td>3.000000</td>\n      <td>0.000000</td>\n      <td>4030.000000</td>\n      <td>1707.000000</td>\n      <td>330200.700000</td>\n      <td>5.812141e+06</td>\n    </tr>\n    <tr>\n      <th>75%</th>\n      <td>4264.000000</td>\n      <td>20.000000</td>\n      <td>4.000000</td>\n      <td>3.000000</td>\n      <td>2.000000</td>\n      <td>2.000000</td>\n      <td>2.000000</td>\n      <td>1.000000</td>\n      <td>1.000000</td>\n      <td>1.000000</td>\n      <td>...</td>\n      <td>7.000000</td>\n      <td>5.250000</td>\n      <td>5.000000</td>\n      <td>96.0</td>\n      <td>2374.000000</td>\n      <td>0.000000</td>\n      <td>4264.000000</td>\n      <td>2543.000000</td>\n      <td>331251.600000</td>\n      <td>5.813492e+06</td>\n    </tr>\n    <tr>\n      <th>max</th>\n      <td>4324.000000</td>\n      <td>31.000000</td>\n      <td>133.000000</td>\n      <td>147.000000</td>\n      <td>220.000000</td>\n      <td>186.000000</td>\n      <td>334.000000</td>\n      <td>151.000000</td>\n      <td>132.000000</td>\n      <td>105.000000</td>\n      <td>...</td>\n      <td>110.000000</td>\n      <td>151.000000</td>\n      <td>139.000000</td>\n      <td>96.0</td>\n      <td>9414.000000</td>\n      <td>96.000000</td>\n      <td>4324.000000</td>\n      <td>3136.000000</td>\n      <td>332599.200000</td>\n      <td>5.815571e+06</td>\n    </tr>\n  </tbody>\n</table>\n<p>8 rows × 105 columns</p>\n</div>"
     },
     "execution_count": 4,
     "metadata": {},
     "output_type": "execute_result"
    }
   ],
   "source": [
    "df.describe()"
   ],
   "metadata": {
    "collapsed": false,
    "ExecuteTime": {
     "end_time": "2025-04-20T04:21:07.210571Z",
     "start_time": "2025-04-20T04:21:07.135803Z"
    }
   },
   "id": "1dde00883bd5b9b1",
   "execution_count": 4
  },
  {
   "cell_type": "code",
   "outputs": [
    {
     "data": {
      "text/plain": "(2360, 109)"
     },
     "execution_count": 5,
     "metadata": {},
     "output_type": "execute_result"
    }
   ],
   "source": [
    "df.shape"
   ],
   "metadata": {
    "collapsed": false,
    "ExecuteTime": {
     "end_time": "2025-04-20T04:21:07.210976Z",
     "start_time": "2025-04-20T04:21:07.209039Z"
    }
   },
   "id": "218c40db85c4b98e",
   "execution_count": 5
  },
  {
   "cell_type": "markdown",
   "source": [
    "## Data Preprocessing"
   ],
   "metadata": {
    "collapsed": false
   },
   "id": "e9bf6e24c5327a29"
  },
  {
   "cell_type": "code",
   "outputs": [
    {
     "name": "stdout",
     "output_type": "stream",
     "text": [
      "Processed data shape: (2360, 106)\n",
      "Columns: ['NB_SCATS_SITE', 'DATE', 'V00', 'V01', 'V02', 'V03', 'V04', 'V05', 'V06', 'V07', 'V08', 'V09', 'V10', 'V11', 'V12', 'V13', 'V14', 'V15', 'V16', 'V17', 'V18', 'V19', 'V20', 'V21', 'V22', 'V23', 'V24', 'V25', 'V26', 'V27', 'V28', 'V29', 'V30', 'V31', 'V32', 'V33', 'V34', 'V35', 'V36', 'V37', 'V38', 'V39', 'V40', 'V41', 'V42', 'V43', 'V44', 'V45', 'V46', 'V47', 'V48', 'V49', 'V50', 'V51', 'V52', 'V53', 'V54', 'V55', 'V56', 'V57', 'V58', 'V59', 'V60', 'V61', 'V62', 'V63', 'V64', 'V65', 'V66', 'V67', 'V68', 'V69', 'V70', 'V71', 'V72', 'V73', 'V74', 'V75', 'V76', 'V77', 'V78', 'V79', 'V80', 'V81', 'V82', 'V83', 'V84', 'V85', 'V86', 'V87', 'V88', 'V89', 'V90', 'V91', 'V92', 'V93', 'V94', 'V95', 'DAY_OF_WEEK', 'MONTH', 'DAY', 'DAY_1', 'DAY_2', 'DAY_3', 'DAY_4', 'DAY_5']\n"
     ]
    },
    {
     "data": {
      "text/plain": "   NB_SCATS_SITE       DATE  V00  V01  V02  V03  V04  V05  V06  V07  ...  V94  \\\n0           2000 2025-04-01   13   11    6    7    5    3    4    6  ...    0   \n1           2000 2025-04-01   31   12   20   15    8   13    9    5  ...   48   \n2           2000 2025-04-01    5    8    5    3    2    1    1    5  ...    0   \n3           2000 2025-04-01   22   26   14   14   15   15    9   12  ...   29   \n4           2000 2025-04-01    8    2    2    4    1    1    2    1  ...    0   \n\n   V95  DAY_OF_WEEK  MONTH  DAY  DAY_1  DAY_2  DAY_3  DAY_4  DAY_5  \n0    0            1      4    1   True  False  False  False  False  \n1   35            1      4    1   True  False  False  False  False  \n2    0            1      4    1   True  False  False  False  False  \n3   22            1      4    1   True  False  False  False  False  \n4    1            1      4    1   True  False  False  False  False  \n\n[5 rows x 106 columns]",
      "text/html": "<div>\n<style scoped>\n    .dataframe tbody tr th:only-of-type {\n        vertical-align: middle;\n    }\n\n    .dataframe tbody tr th {\n        vertical-align: top;\n    }\n\n    .dataframe thead th {\n        text-align: right;\n    }\n</style>\n<table border=\"1\" class=\"dataframe\">\n  <thead>\n    <tr style=\"text-align: right;\">\n      <th></th>\n      <th>NB_SCATS_SITE</th>\n      <th>DATE</th>\n      <th>V00</th>\n      <th>V01</th>\n      <th>V02</th>\n      <th>V03</th>\n      <th>V04</th>\n      <th>V05</th>\n      <th>V06</th>\n      <th>V07</th>\n      <th>...</th>\n      <th>V94</th>\n      <th>V95</th>\n      <th>DAY_OF_WEEK</th>\n      <th>MONTH</th>\n      <th>DAY</th>\n      <th>DAY_1</th>\n      <th>DAY_2</th>\n      <th>DAY_3</th>\n      <th>DAY_4</th>\n      <th>DAY_5</th>\n    </tr>\n  </thead>\n  <tbody>\n    <tr>\n      <th>0</th>\n      <td>2000</td>\n      <td>2025-04-01</td>\n      <td>13</td>\n      <td>11</td>\n      <td>6</td>\n      <td>7</td>\n      <td>5</td>\n      <td>3</td>\n      <td>4</td>\n      <td>6</td>\n      <td>...</td>\n      <td>0</td>\n      <td>0</td>\n      <td>1</td>\n      <td>4</td>\n      <td>1</td>\n      <td>True</td>\n      <td>False</td>\n      <td>False</td>\n      <td>False</td>\n      <td>False</td>\n    </tr>\n    <tr>\n      <th>1</th>\n      <td>2000</td>\n      <td>2025-04-01</td>\n      <td>31</td>\n      <td>12</td>\n      <td>20</td>\n      <td>15</td>\n      <td>8</td>\n      <td>13</td>\n      <td>9</td>\n      <td>5</td>\n      <td>...</td>\n      <td>48</td>\n      <td>35</td>\n      <td>1</td>\n      <td>4</td>\n      <td>1</td>\n      <td>True</td>\n      <td>False</td>\n      <td>False</td>\n      <td>False</td>\n      <td>False</td>\n    </tr>\n    <tr>\n      <th>2</th>\n      <td>2000</td>\n      <td>2025-04-01</td>\n      <td>5</td>\n      <td>8</td>\n      <td>5</td>\n      <td>3</td>\n      <td>2</td>\n      <td>1</td>\n      <td>1</td>\n      <td>5</td>\n      <td>...</td>\n      <td>0</td>\n      <td>0</td>\n      <td>1</td>\n      <td>4</td>\n      <td>1</td>\n      <td>True</td>\n      <td>False</td>\n      <td>False</td>\n      <td>False</td>\n      <td>False</td>\n    </tr>\n    <tr>\n      <th>3</th>\n      <td>2000</td>\n      <td>2025-04-01</td>\n      <td>22</td>\n      <td>26</td>\n      <td>14</td>\n      <td>14</td>\n      <td>15</td>\n      <td>15</td>\n      <td>9</td>\n      <td>12</td>\n      <td>...</td>\n      <td>29</td>\n      <td>22</td>\n      <td>1</td>\n      <td>4</td>\n      <td>1</td>\n      <td>True</td>\n      <td>False</td>\n      <td>False</td>\n      <td>False</td>\n      <td>False</td>\n    </tr>\n    <tr>\n      <th>4</th>\n      <td>2000</td>\n      <td>2025-04-01</td>\n      <td>8</td>\n      <td>2</td>\n      <td>2</td>\n      <td>4</td>\n      <td>1</td>\n      <td>1</td>\n      <td>2</td>\n      <td>1</td>\n      <td>...</td>\n      <td>0</td>\n      <td>1</td>\n      <td>1</td>\n      <td>4</td>\n      <td>1</td>\n      <td>True</td>\n      <td>False</td>\n      <td>False</td>\n      <td>False</td>\n      <td>False</td>\n    </tr>\n  </tbody>\n</table>\n<p>5 rows × 106 columns</p>\n</div>"
     },
     "execution_count": 6,
     "metadata": {},
     "output_type": "execute_result"
    }
   ],
   "source": [
    "def preprocess_data(df):\n",
    "    \"\"\"Preprocess data for time series prediction models.\"\"\"\n",
    "    volume_cols = [f'V{str(i).zfill(2)}' for i in range(96)]\n",
    "\n",
    "    if not all(col in df.columns for col in volume_cols):\n",
    "        raise ValueError(\"Data does not contain all required volume columns from V00 to V95\")\n",
    "\n",
    "    data = df[['NB_SCATS_SITE', 'DATE'] + volume_cols].copy()\n",
    "\n",
    "    data['DATE'] = pd.to_datetime(data['DATE'])\n",
    "\n",
    "    data['DAY_OF_WEEK'] = data['DATE'].dt.dayofweek\n",
    "    data['MONTH'] = data['DATE'].dt.month\n",
    "    data['DAY'] = data['DATE'].dt.day\n",
    "\n",
    "    day_dummies = pd.get_dummies(data['DAY_OF_WEEK'], prefix='DAY')\n",
    "    data = pd.concat([data, day_dummies], axis=1)\n",
    "\n",
    "    return data\n",
    "\n",
    "processed_data = preprocess_data(df)\n",
    "\n",
    "print(\"Processed data shape:\", processed_data.shape)\n",
    "print(\"Columns:\", processed_data.columns.tolist())\n",
    "processed_data.head()"
   ],
   "metadata": {
    "collapsed": false,
    "ExecuteTime": {
     "end_time": "2025-04-20T04:21:07.227987Z",
     "start_time": "2025-04-20T04:21:07.213658Z"
    }
   },
   "id": "1bf1481fee722f62",
   "execution_count": 6
  },
  {
   "cell_type": "markdown",
   "source": [
    "## SCATS SITE Visualization"
   ],
   "metadata": {
    "collapsed": false
   },
   "id": "aeaaa7eb9cabaaf"
  },
  {
   "cell_type": "code",
   "outputs": [
    {
     "name": "stdout",
     "output_type": "stream",
     "text": [
      "Number of unique SCATS sites: 18\n",
      "Available site IDs (first 5): [2000 3002 3120 3122 3126]\n"
     ]
    }
   ],
   "source": [
    "available_sites = processed_data['NB_SCATS_SITE'].unique()\n",
    "print(f\"Number of unique SCATS sites: {len(available_sites)}\")\n",
    "print(f\"Available site IDs (first 5): {available_sites[:5]}\")"
   ],
   "metadata": {
    "collapsed": false,
    "ExecuteTime": {
     "end_time": "2025-04-20T04:21:07.244164Z",
     "start_time": "2025-04-20T04:21:07.226939Z"
    }
   },
   "id": "34f9e6dff491bed6",
   "execution_count": 7
  },
  {
   "cell_type": "code",
   "outputs": [
    {
     "data": {
      "text/plain": "<Figure size 1200x600 with 1 Axes>",
      "image/png": "[encoded data removed]"
     },
     "metadata": {},
     "output_type": "display_data"
    }
   ],
   "source": [
    "plt.figure(figsize=(12, 6))\n",
    "processed_data['NB_SCATS_SITE'].value_counts().plot(kind='bar')\n",
    "plt.title('Number of records by SCATS site')\n",
    "plt.xlabel('SCATS Site ID')\n",
    "plt.ylabel('Count')\n",
    "plt.xticks(rotation=90)\n",
    "plt.tight_layout()\n",
    "plt.show()"
   ],
   "metadata": {
    "collapsed": false,
    "ExecuteTime": {
     "end_time": "2025-04-20T04:21:07.395772Z",
     "start_time": "2025-04-20T04:21:07.230538Z"
    }
   },
   "id": "bd9a4bc232a0ca9d",
   "execution_count": 8
  },
  {
   "cell_type": "markdown",
   "source": [
    "## Data Processing and Sequence Preparation"
   ],
   "metadata": {
    "collapsed": false
   },
   "id": "1e4ad30e80f735e1"
  },
  {
   "cell_type": "code",
   "outputs": [
    {
     "name": "stdout",
     "output_type": "stream",
     "text": [
      "Number of unique SCATS sites: 18\n",
      "Available site IDs (first 5): [2000 3002 3120 3122 3126]\n",
      "Processing site 2000: Found 120 rows\n",
      "  Found 5 unique dates\n",
      "  Date range: 2025-04-01 00:00:00 to 2025-04-05 00:00:00\n",
      "  Created 11040 sequences for site 2000\n",
      "Processing site 3002: Found 120 rows\n",
      "  Found 5 unique dates\n",
      "  Date range: 2025-04-01 00:00:00 to 2025-04-05 00:00:00\n",
      "  Created 11040 sequences for site 3002\n",
      "Processing site 3120: Found 120 rows\n",
      "  Found 5 unique dates\n",
      "  Date range: 2025-04-01 00:00:00 to 2025-04-05 00:00:00\n",
      "  Created 11040 sequences for site 3120\n",
      "Processing site 3122: Found 120 rows\n",
      "  Found 5 unique dates\n",
      "  Date range: 2025-04-01 00:00:00 to 2025-04-05 00:00:00\n",
      "  Created 11040 sequences for site 3122\n",
      "Processing site 3126: Found 120 rows\n",
      "  Found 5 unique dates\n",
      "  Date range: 2025-04-01 00:00:00 to 2025-04-05 00:00:00\n",
      "  Created 11040 sequences for site 3126\n",
      "Processing site 3127: Found 120 rows\n",
      "  Found 5 unique dates\n",
      "  Date range: 2025-04-01 00:00:00 to 2025-04-05 00:00:00\n",
      "  Created 11040 sequences for site 3127\n",
      "Processing site 3180: Found 120 rows\n",
      "  Found 5 unique dates\n",
      "  Date range: 2025-04-01 00:00:00 to 2025-04-05 00:00:00\n",
      "  Created 11040 sequences for site 3180\n",
      "Processing site 3682: Found 120 rows\n",
      "  Found 5 unique dates\n",
      "  Date range: 2025-04-01 00:00:00 to 2025-04-05 00:00:00\n",
      "  Created 11040 sequences for site 3682\n",
      "Processing site 3812: Found 160 rows\n",
      "  Found 5 unique dates\n",
      "  Date range: 2025-04-01 00:00:00 to 2025-04-05 00:00:00\n",
      "  Created 14720 sequences for site 3812\n",
      "Processing site 4030: Found 120 rows\n",
      "  Found 5 unique dates\n",
      "  Date range: 2025-04-01 00:00:00 to 2025-04-05 00:00:00\n",
      "  Created 11040 sequences for site 4030\n",
      "Processing site 4040: Found 120 rows\n",
      "  Found 5 unique dates\n",
      "  Date range: 2025-04-01 00:00:00 to 2025-04-05 00:00:00\n",
      "  Created 11040 sequences for site 4040\n",
      "Processing site 4057: Found 120 rows\n",
      "  Found 5 unique dates\n",
      "  Date range: 2025-04-01 00:00:00 to 2025-04-05 00:00:00\n",
      "  Created 11040 sequences for site 4057\n",
      "Processing site 4063: Found 160 rows\n",
      "  Found 5 unique dates\n",
      "  Date range: 2025-04-01 00:00:00 to 2025-04-05 00:00:00\n",
      "  Created 14720 sequences for site 4063\n",
      "Processing site 4264: Found 160 rows\n",
      "  Found 5 unique dates\n",
      "  Date range: 2025-04-01 00:00:00 to 2025-04-05 00:00:00\n",
      "  Created 14720 sequences for site 4264\n",
      "Processing site 4266: Found 120 rows\n",
      "  Found 5 unique dates\n",
      "  Date range: 2025-04-01 00:00:00 to 2025-04-05 00:00:00\n",
      "  Created 11040 sequences for site 4266\n",
      "Processing site 4270: Found 160 rows\n",
      "  Found 5 unique dates\n",
      "  Date range: 2025-04-01 00:00:00 to 2025-04-05 00:00:00\n",
      "  Created 14720 sequences for site 4270\n",
      "Processing site 4272: Found 120 rows\n",
      "  Found 5 unique dates\n",
      "  Date range: 2025-04-01 00:00:00 to 2025-04-05 00:00:00\n",
      "  Created 11040 sequences for site 4272\n",
      "Processing site 4324: Found 160 rows\n",
      "  Found 5 unique dates\n",
      "  Date range: 2025-04-01 00:00:00 to 2025-04-05 00:00:00\n",
      "  Created 14720 sequences for site 4324\n",
      "Total sequences across all sites: 217120\n",
      "Final combined sequence shapes - X: (217120, 4, 9), y: (217120, 1)\n",
      "Training set size: (173696, 4, 9)\n",
      "Testing set size: (43424, 4, 9)\n"
     ]
    }
   ],
   "source": [
    "def create_sequences_all_sites(data, sequence_length=4, prediction_horizon=1):\n",
    "    \"\"\"\n",
    "    Create time series sequences for prediction models for all SCATS sites.\n",
    "    Returns a dictionary of site_id -> (X, y, scaler) for each site.\n",
    "    \"\"\"\n",
    "    # Get unique site IDs\n",
    "    site_ids = data['NB_SCATS_SITE'].unique()\n",
    "    print(f\"Number of unique SCATS sites: {len(site_ids)}\")\n",
    "    print(f\"Available site IDs (first 5): {site_ids[:5]}\")\n",
    "    \n",
    "    all_X = []\n",
    "    all_y = []\n",
    "    site_scalers = {}\n",
    "    site_indices = []  # To keep track of which sequences belong to which site\n",
    "    \n",
    "    # Volume columns\n",
    "    volume_cols = [f'V{str(i).zfill(2)}' for i in range(96)]\n",
    "    \n",
    "    # Process each site\n",
    "    for site_id in site_ids:\n",
    "        # Filter data for specific site\n",
    "        site_data = data[data['NB_SCATS_SITE'] == site_id].sort_values('DATE')\n",
    "        print(f\"Processing site {site_id}: Found {len(site_data)} rows\")\n",
    "        \n",
    "        if len(site_data) == 0:\n",
    "            print(f\"No data found for site_id {site_id}. Skipping.\")\n",
    "            continue\n",
    "            \n",
    "        # Check available dates\n",
    "        unique_dates = site_data['DATE'].unique()\n",
    "        print(f\"  Found {len(unique_dates)} unique dates\")\n",
    "        if len(unique_dates) > 0:\n",
    "            print(f\"  Date range: {min(unique_dates)} to {max(unique_dates)}\")\n",
    "        \n",
    "        # Normalize traffic volume data for this site\n",
    "        scaler = MinMaxScaler()\n",
    "        site_data[volume_cols] = scaler.fit_transform(site_data[volume_cols])\n",
    "        site_scalers[site_id] = scaler\n",
    "        \n",
    "        # Select additional features (day of week)\n",
    "        day_features = [col for col in site_data.columns if col.startswith('DAY_')]\n",
    "        \n",
    "        # Create sequences for this site\n",
    "        site_X = []\n",
    "        site_y = []\n",
    "        \n",
    "        # Process each day's data\n",
    "        for _, row in site_data.iterrows():\n",
    "            # Get traffic data for the entire day\n",
    "            daily_data = row[volume_cols].values\n",
    "            \n",
    "            # Check for any NaN values\n",
    "            try:\n",
    "                daily_data_float = daily_data.astype(float)\n",
    "                if np.isnan(daily_data_float).any():\n",
    "                    print(f\"  Warning: NaN values found for date {row['DATE']}, skipping\")\n",
    "                    continue\n",
    "            except (ValueError, TypeError):\n",
    "                print(f\"  Warning: Non-numeric values found for date {row['DATE']}, skipping\")\n",
    "                continue\n",
    "                \n",
    "            # Create sequences for this day\n",
    "            for i in range(96 - sequence_length - prediction_horizon + 1):\n",
    "                # Input sequence\n",
    "                input_seq = []\n",
    "                for j in range(sequence_length):\n",
    "                    # Traffic volume feature (single value for this time step)\n",
    "                    traffic_feature = daily_data[i + j:i + j + 1]\n",
    "                    \n",
    "                    # Day of week info\n",
    "                    day_info = row[day_features].values if day_features else np.array([])\n",
    "                    \n",
    "                    # Time of day (normalized)\n",
    "                    time_of_day = (i + j) / 96.0\n",
    "                    \n",
    "                    # Site ID as a feature (normalized)\n",
    "                    site_id_norm = site_id / 10000.0  # Assuming site IDs are 4-digit numbers\n",
    "                    \n",
    "                    # Combine features for this time step\n",
    "                    features = np.concatenate([\n",
    "                        traffic_feature, \n",
    "                        day_info, \n",
    "                        [time_of_day],\n",
    "                        [site_id_norm]\n",
    "                    ])\n",
    "                    \n",
    "                    input_seq.append(features)\n",
    "                    \n",
    "                # Output sequence (next time steps)\n",
    "                output_seq = daily_data[i + sequence_length:i + sequence_length + prediction_horizon]\n",
    "                \n",
    "                site_X.append(input_seq)\n",
    "                site_y.append(output_seq)\n",
    "                \n",
    "        print(f\"  Created {len(site_X)} sequences for site {site_id}\")\n",
    "        \n",
    "        # Add to our overall dataset\n",
    "        all_X.extend(site_X)\n",
    "        all_y.extend(site_y)\n",
    "        site_indices.extend([site_id] * len(site_X))\n",
    "    \n",
    "    # Convert to numpy arrays\n",
    "    all_X = np.array(all_X)\n",
    "    all_y = np.array(all_y)\n",
    "    site_indices = np.array(site_indices)\n",
    "    \n",
    "    print(f\"Total sequences across all sites: {len(all_X)}\")\n",
    "    if len(all_X) > 0:\n",
    "        print(f\"Final combined sequence shapes - X: {all_X.shape}, y: {all_y.shape}\")\n",
    "    \n",
    "    return all_X, all_y, site_indices, site_scalers\n",
    "\n",
    "sequence_length = 4\n",
    "prediction_horizon = 1\n",
    "\n",
    "all_X, all_y, site_indices, site_scalers = create_sequences_all_sites(\n",
    "    processed_data, sequence_length, prediction_horizon\n",
    ")\n",
    "\n",
    "X_train, X_test, y_train, y_test, sites_train, sites_test = train_test_split(\n",
    "    all_X, all_y, site_indices, test_size=0.2, random_state=42\n",
    ")\n",
    "\n",
    "print(f\"Training set size: {X_train.shape}\")\n",
    "print(f\"Testing set size: {X_test.shape}\")\n",
    "\n",
    "def get_site_data(site_id, X, y, sites):\n",
    "    mask = sites == site_id\n",
    "    return X[mask], y[mask]"
   ],
   "metadata": {
    "collapsed": false,
    "ExecuteTime": {
     "end_time": "2025-04-20T04:22:29.318558Z",
     "start_time": "2025-04-20T04:21:07.393396Z"
    }
   },
   "id": "3b10f5a32fba6a45",
   "execution_count": 9
  },
  {
   "cell_type": "code",
   "outputs": [],
   "source": [
    "os.makedirs('processed_data', exist_ok=True)\n",
    "\n",
    "np.save('processed_data/X_train.npy', X_train)\n",
    "np.save('processed_data/X_test.npy', X_test)\n",
    "np.save('processed_data/y_train.npy', y_train)\n",
    "np.save('processed_data/y_test.npy', y_test)\n",
    "np.save('processed_data/sites_train.npy', sites_train)\n",
    "np.save('processed_data/sites_test.npy', sites_test)\n",
    "\n",
    "with open('processed_data/site_scalers.pkl', 'wb') as f:\n",
    "    pickle.dump(site_scalers, f)\n",
    "\n",
    "data_info = {\n",
    "    'X_train_shape': X_train.shape,\n",
    "    'X_test_shape': X_test.shape,\n",
    "    'y_train_shape': y_train.shape,\n",
    "    'y_test_shape': y_test.shape,\n",
    "    'sites_train_shape': sites_train.shape,\n",
    "    'sites_test_shape': sites_test.shape,\n",
    "    'n_unique_sites': len(site_scalers.keys()),\n",
    "    'sequence_length': X_train.shape[1],\n",
    "    'n_features': X_train.shape[2],\n",
    "    'output_size': y_train.shape[1]\n",
    "}\n",
    "\n",
    "with open('processed_data/data_info.txt', 'w') as f:\n",
    "    for key, value in data_info.items():\n",
    "        f.write(f\"{key}: {value}\\n\")"
   ],
   "metadata": {
    "collapsed": false,
    "ExecuteTime": {
     "end_time": "2025-04-20T04:22:29.692474Z",
     "start_time": "2025-04-20T04:22:29.319256Z"
    }
   },
   "id": "b846d199ad68c288",
   "execution_count": 10
  }
 ],
 "metadata": {
  "kernelspec": {
   "display_name": "Python 3",
   "language": "python",
   "name": "python3"
  },
  "language_info": {
   "codemirror_mode": {
    "name": "ipython",
    "version": 2
   },
   "file_extension": ".py",
   "mimetype": "text/x-python",
   "name": "python",
   "nbconvert_exporter": "python",
   "pygments_lexer": "ipython2",
   "version": "2.7.6"
  }
 },
 "nbformat": 4,
 "nbformat_minor": 5
}
